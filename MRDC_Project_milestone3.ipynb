{
 "cells": [
  {
   "cell_type": "code",
   "execution_count": null,
   "metadata": {},
   "outputs": [],
   "source": []
  },
  {
   "cell_type": "markdown",
   "metadata": {},
   "source": [
    "## MILESTONE 3\n",
    "# **M3** // Multinational Retail Data Centralisation\n",
    "##### Tasks 1\n",
    "Change orders_table data_types to correct form displayed.\n",
    "\n",
    "***\n",
    "**date_uuid** from **TEXT** to **UUID**\n",
    "\n",
    "`ALTER TABLE orders_table` <br><p style=\"padding: 0 30px\">\n",
    "    `ALTER COLUMN date_uuid \t\t\tTYPE uuid \t\tUSING date_uuid::uuid,` <br>\n",
    "    `ALTER COLUMN user_uuid \t\t\tTYPE uuid \t\tUSING user_uuid::uuid,` <br>\n",
    "\t`ALTER COLUMN card_number \t\t    TYPE varchar \tUSING card_number::varchar (16),` <br>\n",
    "\t`ALTER COLUMN store_code \t\t    TYPE varchar \tUSING store_code::varchar (12),` <br>\n",
    "\t`ALTER COLUMN product_code \t\t\tTYPE varchar \tUSING product_code::varchar (11),` <br>\n",
    "\t`ALTER COLUMN product_quantity \t\tTYPE smallint \tUSING product_quantity::smallint;` <br>\n",
    "</p>\n",
    "\n",
    "\n"
   ]
  }
 ],
 "metadata": {
  "language_info": {
   "name": "python"
  }
 },
 "nbformat": 4,
 "nbformat_minor": 2
}
